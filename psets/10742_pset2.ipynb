{
  "cells": [
    {
      "cell_type": "markdown",
      "source": [
        "# CMU 10-742 (Fall 2024) - Machine Learning in Healthcare\n",
        "\n",
        "## Assignment 2: Predicting Sepsis\n",
        "\n",
        "Out: Thurs Sep 12\n",
        "\n",
        "Due: Thurs Sep 26\n",
        "\n",
        "_This assignment counts for 9 points out of the 35 total points allocated to the course problem sets._"
      ],
      "metadata": {
        "id": "_Wy6eHGklwUV"
      }
    },
    {
      "cell_type": "markdown",
      "source": [
        "In this assignment, we'll first familiarize ourselves with MIMIC data. Then, in Part 2, we'll build a model to predict which patients in an intensive care unit (ICU) will develop sepsis. In Part 3, we'll go through a brief refresher on Bayesian statistics."
      ],
      "metadata": {
        "id": "DR6saio3GM85"
      }
    },
    {
      "cell_type": "markdown",
      "source": [
        "# Part 1: EDA (2 points)\n",
        "\n",
        "In this part, we'll conduct some exploratory data analysis (EDA) on several MIMIC datasets, to familiarize ourselves with healthcare codes and some idiosyncracies in the data."
      ],
      "metadata": {
        "id": "aWIWi9TcJSwB"
      }
    },
    {
      "cell_type": "code",
      "execution_count": null,
      "metadata": {
        "id": "0fZP5BybaIAf"
      },
      "outputs": [],
      "source": [
        "# collecting (most) of the imports for this assignment in one place. You may not end up using all of these, and\n",
        "# you may need others not listed here.\n",
        "\n",
        "from google.colab import auth\n",
        "import pandas as pd\n",
        "import numpy as np\n",
        "from sklearn.linear_model import LogisticRegression\n",
        "from sklearn.metrics import accuracy_score, roc_auc_score, roc_curve, confusion_matrix, f1_score\n",
        "from sklearn.preprocessing import StandardScaler\n",
        "import matplotlib.pyplot as plt\n",
        "from sklearn.feature_extraction.text import CountVectorizer"
      ]
    },
    {
      "cell_type": "code",
      "source": [
        "auth.authenticate_user()"
      ],
      "metadata": {
        "id": "BB3_cNAwpaNY"
      },
      "execution_count": null,
      "outputs": []
    },
    {
      "cell_type": "markdown",
      "source": [
        "Download these files from Physionet to your computer, uncompress them, and then upload the resulting files here (colab). There is a file icon on the left panel of colab - you can use this to upload files from your computer to colab.  \n",
        "\n",
        "`https://physionet.org/content/mimiciii/1.4/DIAGNOSES_ICD.csv.gz` to `MIMIC_III_DIAGNOSES_ICD.csv`  \n",
        "\n",
        "`https://physionet.org/content/mimiciii/1.4/D_ICD_DIAGNOSES.csv.gz` to `MIMIC_III_D_ICD_DIAGNOSES.csv`\n",
        "\n",
        "`https://physionet.org/files/mimiciv/2.2/hosp/d_icd_diagnoses.csv.gz` to `MIMIC_IV_D_ICD_DIAGNOSES.csv`\n",
        "\n",
        "`https://physionet.org/files/mimiciv/2.2/hosp/diagnoses_icd.csv.gz` to `MIMIC_IV_DIAGNOSES_ICD.csv`"
      ],
      "metadata": {
        "id": "M1lMp6CTtuCt"
      }
    },
    {
      "cell_type": "code",
      "source": [
        "# In case physionet server is unresponsive, we've placed the required MIMIC files\n",
        "# in a private GCP bucket. We will only grant access to this bucket (a) in case\n",
        "# the physionet server is down, and (b) only to those students who have proven\n",
        "# to the course staff that they have been granted access to the MIMIC III and IV\n",
        "# file repositories on physionet.\n",
        "\n",
        "#bucket=\"10-742-mimic\"\n",
        "#!gsutil cp gs://{bucket}/MIMIC_III_DIAGNOSES_ICD.csv ./\n",
        "#!gsutil cp gs://{bucket}/MIMIC_III_D_ICD_DIAGNOSES.csv ./\n",
        "#!gsutil cp gs://{bucket}/MIMIC_IV_D_ICD_DIAGNOSES.csv ./\n",
        "#gsutil cp gs://{bucket}/MIMIC_IV_DIAGNOSES_ICD.csv ./"
      ],
      "metadata": {
        "id": "WNvKyZYybLWA",
        "collapsed": true
      },
      "execution_count": null,
      "outputs": []
    },
    {
      "cell_type": "code",
      "source": [
        "# Load the ICD 'code to name' dictionaries\n",
        "\n",
        "icd9_code_to_names = pd.read_csv('MIMIC_III_D_ICD_DIAGNOSES.csv')\n",
        "mimic_iv_icd_to_name = pd.read_csv('MIMIC_IV_D_ICD_DIAGNOSES.csv')\n",
        "\n",
        "# Create a mapping of ICD9 codes to names\n",
        "icd9_to_name = dict(zip(icd9_code_to_names.ICD9_CODE, icd9_code_to_names.LONG_TITLE))\n",
        "\n",
        "# Do the same for ICD10\n",
        "icd10_only = mimic_iv_icd_to_name[mimic_iv_icd_to_name['icd_version'] == 10]\n",
        "icd10_to_name = dict(zip(icd10_only.icd_code, icd10_only.long_title))\n",
        "\n",
        "#uncomment if you're curious\n",
        "#print (\"Here's the first few items in the 'icd9_to_name' dict:\")\n",
        "#for key, value in list(icd9_to_name.items())[:10]:\n",
        "#    print(f\"Key: {key}, Value: {value}\")\n",
        "\n",
        "#print (\"Here's the first few items in the 'icd10_to_name' dict:\")\n",
        "#for key, value in list(icd10_to_name.items())[:10]:\n",
        "#    print(f\"Key: {key}, Value: {value}\")"
      ],
      "metadata": {
        "id": "AzQS5-f0bQ8_"
      },
      "execution_count": null,
      "outputs": []
    },
    {
      "cell_type": "markdown",
      "source": [
        "#1.1\n",
        "\n",
        "What are the top ten most common ICD-9 codes in MIMIC-III and what percent of total ICD-9 codes does each ICD-9 code in the top ten make up (e.g, Hypertension, 1%)? Please provide the description of the ICD code and the code itself. You can use the two dictionaries we loaded in the previous step:  `icd9_to_name` and `icd10_to_name`."
      ],
      "metadata": {
        "id": "xUpy2KKbpCxC"
      }
    },
    {
      "cell_type": "markdown",
      "source": [
        "**YOUR ANSWER HERE**"
      ],
      "metadata": {
        "id": "Yqdiq4YsB3RL"
      }
    },
    {
      "cell_type": "markdown",
      "source": [
        "#1.2\n",
        "\n",
        "What are the top ten most common ICD-10 codes in MIMIC-IV and what percent of total ICD-10 codes does each ICD-10 code in the top ten make up (e.g, Hypertension, 1%)? Provide the description of the ICD code and the code itself.\n",
        "\n",
        "Note that MIMIC-IV has both ICD-9 and ICD-10 codes, since the MIMIC-IV dataset was collected before and after the cutover in ICD version. For MIMIC-IV, you should only consider the rows where `icd_version=\"10\"`."
      ],
      "metadata": {
        "id": "NolvnQ_7pHGk"
      }
    },
    {
      "cell_type": "markdown",
      "source": [
        "**YOUR ANSWER HERE**"
      ],
      "metadata": {
        "id": "K_JItqRaB4AN"
      }
    },
    {
      "cell_type": "markdown",
      "source": [
        "#1.3\n",
        "\n",
        "What is the average number of ICD codes per visit in MIMIC-III?\n",
        "\n",
        "Hint: The `HADM_ID` field is a unique identifier for each hospital admission of a patient."
      ],
      "metadata": {
        "id": "-LLw10xbpNm7"
      }
    },
    {
      "cell_type": "markdown",
      "source": [
        "**YOUR ANSWER HERE**"
      ],
      "metadata": {
        "id": "Gyf1aRRsB41A"
      }
    },
    {
      "cell_type": "markdown",
      "source": [
        "#1.4\n",
        "Same as previous question, but for MIMIC-IV. Once again, only consider ICD-10 codes for this dataset."
      ],
      "metadata": {
        "id": "L2NflSaopS2C"
      }
    },
    {
      "cell_type": "markdown",
      "source": [
        "**YOUR ANSWER HERE**"
      ],
      "metadata": {
        "id": "IUvHWt1TB5qC"
      }
    },
    {
      "cell_type": "markdown",
      "source": [
        "#1.5\n",
        "\n",
        "Plot the distribution of the number of admissions for each patient in MIMIC-IV (as always with MIMIC-IV, we only want you to consider ICD-10 codes).\n",
        "\n",
        "Use a logarithmic scale for the y-axis (why?)."
      ],
      "metadata": {
        "id": "AVqHgxTwu_eB"
      }
    },
    {
      "cell_type": "markdown",
      "source": [
        "**YOUR ANSWER HERE**"
      ],
      "metadata": {
        "id": "5bWYCGS0B6sO"
      }
    },
    {
      "cell_type": "markdown",
      "source": [
        "#1.6\n",
        "Graph the distribution of number of ICD-10 codes per enounter in the MIMIC-IV dataset. What do you notice at the outermost edge of the distribution? Offer up a plausible explanation."
      ],
      "metadata": {
        "id": "va-8WulKypM4"
      }
    },
    {
      "cell_type": "markdown",
      "source": [
        "**YOUR ANSWER HERE**"
      ],
      "metadata": {
        "id": "FzSpY__0B7hq"
      }
    },
    {
      "cell_type": "markdown",
      "source": [
        "# 1.7\n",
        "\n",
        "Inspect the list of top outpatient ICD-10 codes in 2021 from this url: https://www.definitivehc.com/blog/top-outpatient-diagnoses-by-icd-10-code\n",
        "\n",
        "How does it differ from the top 10 ICD-10 codes you found in MIMIC-IV? Can you offer any explanation?"
      ],
      "metadata": {
        "id": "kbAi_0ZTpYgT"
      }
    },
    {
      "cell_type": "markdown",
      "source": [
        "**YOUR ANSWER HERE**"
      ],
      "metadata": {
        "id": "m61AxgyOB8hF"
      }
    },
    {
      "cell_type": "markdown",
      "source": [
        "# Part 2: Predicting Sepsis (5 points)"
      ],
      "metadata": {
        "id": "ydxYTjidsV9x"
      }
    },
    {
      "cell_type": "markdown",
      "metadata": {
        "id": "Hrrpbil8_p5T"
      },
      "source": [
        "Sepsis is a serious and unfortunately common issue amongst hospitalized patients, contributing to 6 million deaths per year. Sepsis occurs when an infection causes a systemic inflammatory response, disrupting normal physiologic functioning. This can lead to septic shock, a situation in which the body cannot maintain proper blood pressure, resulting in inadequate blood flow to the organs, depriving them of the oxygen and nutrients they need to function properly. Early deployment of broad-spectrum antibiotics and fluid resuscitation can save lives...and the earlier, the better.  \n",
        "\n",
        "In this part, we will use the dataset originally published for the [2019 PhysioNet Computing in Cardiology Challenge](https://www.ncbi.nlm.nih.gov/pmc/articles/PMC6964870/). The dataset was assembled from over 60K patients in ICUs from three separate hospital systems. The data contains up to 40 clinical variables for each hour of a patient’s ICU stay.   The documentation for this dataset is [here](https://physionet.org/content/challenge-2019/1.0.0/), but we have made the following modifications to the data for this assignment:\n",
        "\n",
        "- The `SepsisLabel` field stores the hour after admission when the patient developed sepsis, or 0 if they did not develop sepsis.\n",
        "- We retain only the first 5 time hours of data after admission\n",
        "- We discard all records where the patient stayed for fewer than 8 hours or developed sepsis earlier than 8 hours after admission.\n"
      ]
    },
    {
      "cell_type": "code",
      "execution_count": null,
      "metadata": {
        "id": "ndDaIFMr_-me"
      },
      "outputs": [],
      "source": [
        "# download data from course cloud folder. For reference, the original source of this data is\n",
        "# https://archive.physionet.org/users/shared/challenge-2019/. It contains data from two blinded institutions.\n",
        "\n",
        "!gsutil cp gs://10-742/assignment_2/asst2_train.zip ./\n",
        "!gsutil cp gs://10-742/assignment_2/asst2_test.zip ./"
      ]
    },
    {
      "cell_type": "code",
      "execution_count": null,
      "metadata": {
        "id": "B7_GAoqCADL8"
      },
      "outputs": [],
      "source": [
        "# Load data into a set of dataframes, one per patient.\n",
        "# The number of rows in a dataframe is the number of events for that patient.\n",
        "import zipfile\n",
        "from tqdm import tqdm\n",
        "\n",
        "def read_dataframes(zip_path, max_files=100):\n",
        "    dataframes = []\n",
        "    with zipfile.ZipFile(zip_path, 'r') as zf:\n",
        "        file_list = zf.namelist()[:max_files]  # Limit to the first `max_files` files\n",
        "        for file_name in tqdm(file_list, desc=\"Reading DataFrames from \" + zip_path):\n",
        "            # Read each CSV file into a DataFrame\n",
        "            with zf.open(file_name) as file:\n",
        "                df = pd.read_csv(file)\n",
        "                dataframes.append(df)\n",
        "    return dataframes\n",
        "\n",
        "# Read DataFrames back from the ZIP archive\n",
        "training_data = read_dataframes(\"asst2_train.zip\", max_files=999999)\n",
        "test_data = read_dataframes(\"asst2_test.zip\", max_files=999999)\n",
        "\n",
        "# at this point, training_data and test_data are lists consisting of a dataframe for each patient\n",
        "print(f\"\\nThere are {len(training_data)} patients in training set and {len(test_data)} patients in test set.\")\n",
        "print(f\"The first patient in the training data has {len(training_data[0])} records.\")\n",
        "print(f\"The first patient in the test data has {len(test_data[0])} records.\")"
      ]
    },
    {
      "cell_type": "markdown",
      "source": [
        "#2.1\n",
        "\n",
        "Carefully inspect the first few readings for one of the patients, so that you understand the data. For fields you don't understand, refer to https://physionet.org/content/challenge-2019/1.0.0/\n",
        "\n",
        "All the fields are important, but in particular be sure you understand ICULOS.\n",
        "\n",
        "For this question and all questions up to and including 2.5, you should restrict attention to the training data."
      ],
      "metadata": {
        "id": "HxKe12GyhvH5"
      }
    },
    {
      "cell_type": "markdown",
      "source": [
        "# 2.2\n",
        "\n",
        "What is the fraction of patients  that eventually develop sepsis? We'll call this the 'sepsis cohort' from now on.\n",
        "\n",
        "For this through 2.5, use only the training data."
      ],
      "metadata": {
        "id": "2Ez0axSzh06A"
      }
    },
    {
      "cell_type": "markdown",
      "source": [
        "**YOUR ANSWER HERE**"
      ],
      "metadata": {
        "id": "R7T_JJlnB_T5"
      }
    },
    {
      "cell_type": "markdown",
      "source": [
        "# 2.3\n",
        "\n",
        "Examine the distributions of gender and age between the patients with sepsis and the full set of patients. What differences do you notice? Be sure to show any outputs or plots that illustrate your observations."
      ],
      "metadata": {
        "id": "FynEHy8Bh5w8"
      }
    },
    {
      "cell_type": "markdown",
      "source": [
        "**YOUR ANSWER HERE**"
      ],
      "metadata": {
        "id": "c3-8AyC5CBNF"
      }
    },
    {
      "cell_type": "markdown",
      "source": [
        "#2.4\n",
        "\n",
        "Plot a histogram of the first hour in which patients develop sepsis. In other words, the number of hours since the patient was admitted to the hospital.\n",
        "\n"
      ],
      "metadata": {
        "id": "rw804SM6iM_w"
      }
    },
    {
      "cell_type": "markdown",
      "source": [
        "**YOUR ANSWER HERE**"
      ],
      "metadata": {
        "id": "6wWf08GKCDr4"
      }
    },
    {
      "cell_type": "markdown",
      "source": [
        "#2.5\n",
        "\n",
        "There's a LOT of missing data in this dataset. Which is not atypical for a medical dataset.\n",
        "\n",
        "Calculate how often each feature is missing across all patients (sepsis or not). For example, if patient1 has feature1 missing 2/40 (across the 40 hours of their stay), and patient2 has feature1 missing 5/30, the missingness for feature 1 is (2+5)/(40+30). Show the top k=10 features with the highest \"missingness.\"\n",
        "\n"
      ],
      "metadata": {
        "id": "mrAbbcu1iSHW"
      }
    },
    {
      "cell_type": "markdown",
      "source": [
        "**YOUR ANSWER HERE**"
      ],
      "metadata": {
        "id": "dYkhh9ckCE5L"
      }
    },
    {
      "cell_type": "markdown",
      "source": [
        "#2.6\n",
        "\n",
        "Now we're going to build a model to predict whether a patient develops sepsis. Not *when* they develop sepsis, but *if*.\n",
        "\n",
        "How you attack the problem is up to you. You decide how to handle the missing data (recall we discussed some imputation methods in lecture 5). You decide what features to extract from the data. You decide what form of model to use, and what hyperparameter settings to use. As you decide on the form of your model, be sure to consider the next question in this assignment.\n",
        "\n",
        "Succinctly describe your assumptions and approach in a free text cell.  \n",
        "\n",
        "Show your model performance on the test set (`test_data`) as an ROC curve.\n",
        "\n",
        "For reference, here's what we got:\n",
        "\n",
        "<img src=\"https://storage.cloud.google.com/10-742/assignment_2/asst2_sepsis_ROC.png\" width=\"500\" alt=\"image alt text\">"
      ],
      "metadata": {
        "id": "57oPqv98idl6"
      }
    },
    {
      "cell_type": "markdown",
      "source": [
        "**SUCCINCTLY DESCRIBE YOUR ASSUMPTIONS AND APPROACH HERE**"
      ],
      "metadata": {
        "id": "AeBEGL_CCHi6"
      }
    },
    {
      "cell_type": "code",
      "source": [
        "SHOW YOUR CODE AND ROC CURVE HERE"
      ],
      "metadata": {
        "id": "QGOP0-rdkiyI"
      },
      "execution_count": null,
      "outputs": []
    },
    {
      "cell_type": "markdown",
      "source": [
        "#2.7\n",
        "\n",
        "You are presenting this trained model at Springfield Hospital's Grand Rounds next week. You should expect someone in the audience to \"explain\" your model. Select three of the top (most influential) features and provide an intuitive explanation for these features.\n"
      ],
      "metadata": {
        "id": "COKpfO7U-6uk"
      }
    },
    {
      "cell_type": "markdown",
      "source": [
        "**YOUR ANSWER HERE**"
      ],
      "metadata": {
        "id": "PHp2PuL--9P_"
      }
    },
    {
      "cell_type": "markdown",
      "source": [
        "#2.8\n",
        "\n",
        "\n",
        "In a clinical setting, an early identification of sepsis is more valuable than a later identification. However, classic ML model metrics (e.g. AUROC) don't capture this aspect – a model that predicts sepsis correctly 8 hours in advance of sepsis onset is equivalent in quality to a model that predicts it 3 hours in advance. Describe, in a few sentences, a proposed metric that takes both accuracy and timeliness into account. Describe how you would modify your approach to build a model that optimizes this metric, vs. traditional AUC."
      ],
      "metadata": {
        "id": "xH9sM-2bIVJc"
      }
    },
    {
      "cell_type": "markdown",
      "source": [
        "**YOUR ANSWER HERE**"
      ],
      "metadata": {
        "id": "wiye3auGCJOp"
      }
    },
    {
      "cell_type": "markdown",
      "source": [
        "#Part 3: Simpson's Paradox (2 points)\n",
        "\n",
        "In the mid-1980s, a group of urologists published a study [(link)](https://www.ncbi.nlm.nih.gov/pmc/articles/PMC1339981/) that compared two treatments for kidney stones: open surgery and percutaneous nephrolithotomy\t(basically a minimally invasive surgery, similar in aspects to laparoscopic surgery).\n",
        "\n",
        "Here were their results:\n",
        "\n",
        "|                        | open surgery |  percutaneous nephrolithotomy |\n",
        "|------------------------|-----------|----------|\n",
        "| stone diameter <= 2cm  | 81/87     | 234/270  |\n",
        "| stone diameter > 2cm   | 192/263   | 55/80   |\n"
      ],
      "metadata": {
        "id": "NyTxCnRkmRxc"
      }
    },
    {
      "cell_type": "markdown",
      "source": [
        "#3.1\n",
        "\n",
        "For each of the stone sizes, which is the more effective treatment?\n",
        "\n",
        "Now add another row at the bottom of the table, showing the aggregate effect of the treatment cohort and the control cohort. At this aggregate view, does the treatment appear to help or hurt?\n",
        "\n",
        "Describe the apparent contradiction in these statistics, and also provide a succinct explanation. This statistical phenomenon is called Simpson's paradox.\n"
      ],
      "metadata": {
        "id": "Blrtk1Ntw4lC"
      }
    },
    {
      "cell_type": "markdown",
      "source": [
        "**YOUR ANSWER HERE**"
      ],
      "metadata": {
        "id": "s6KuqUL-CKhN"
      }
    }
  ],
  "metadata": {
    "colab": {
      "provenance": []
    },
    "kernelspec": {
      "display_name": "Python 3",
      "name": "python3"
    },
    "language_info": {
      "name": "python"
    }
  },
  "nbformat": 4,
  "nbformat_minor": 0
}