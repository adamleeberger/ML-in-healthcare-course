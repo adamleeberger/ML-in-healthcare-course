{
  "nbformat": 4,
  "nbformat_minor": 0,
  "metadata": {
    "colab": {
      "provenance": []
    },
    "kernelspec": {
      "name": "python3",
      "display_name": "Python 3"
    },
    "language_info": {
      "name": "python"
    }
  },
  "cells": [
    {
      "cell_type": "markdown",
      "source": [
        "# CMU 10-742 (Fall 2024) - Machine Learning in Healthcare\n",
        "\n",
        "## Assignment 3: Using ML for Clinical Operations\n",
        "\n",
        "Out: Thurs Sep 26 2024\n",
        "\n",
        "Due: Thurs Oct 8 2024\n",
        "\n",
        "_This assignment counts for 10 points out of the 35 total points allocated to the course problem sets._"
      ],
      "metadata": {
        "id": "j96QoT3xi3i_"
      }
    },
    {
      "cell_type": "markdown",
      "source": [
        "In this assignment, we'll explore various clinical datasets and apply them towards a few different important problems in healthcare operations: (1) how long we expect an admitted patient to stay in the hospital (2) where we expect to send the patient after they are discharged (3) forecasting hospital admissions."
      ],
      "metadata": {
        "id": "VrzIliQoGVIa"
      }
    },
    {
      "cell_type": "markdown",
      "source": [
        "# Part 1: Length-of-Stay Prediction (3 points)\n",
        "\n",
        "In this part, we'll build a model that predicts the length-of-stay (LOS) for patients admitted to the hospital.\n",
        "\n",
        "LOS prediction is important for many reasons, including planning resource needs (beds, nurses, etc.) and to allow care management teams to coordinate discharge activities when patients leave the hospital.\n",
        "\n",
        "We'll use the MIMIC-III and MIMIC-IV dataset. The MIMIC-III dataset contains contains de-identified clinical data of patients admitted to the intensive care units (ICU) at the Beth Israel Deaconess Medical Center in Boston from 2001-2012. MIMIC-IV has a somewhat different schema, richer data, and covers the years 2008 to 2019."
      ],
      "metadata": {
        "id": "S50SYWc-EOV4"
      }
    },
    {
      "cell_type": "code",
      "execution_count": null,
      "metadata": {
        "id": "0fZP5BybaIAf"
      },
      "outputs": [],
      "source": [
        "# collecting (most) of the imports for this assignment in one place. You may not end up using all of these, and\n",
        "# you may need others not listed here.\n",
        "\n",
        "from google.colab import auth\n",
        "import pandas as pd\n",
        "import numpy as np\n",
        "import matplotlib.pyplot as plt\n",
        "\n",
        "from sklearn.model_selection import train_test_split\n",
        "from sklearn.metrics import accuracy_score, precision_score, recall_score, roc_auc_score, roc_curve, confusion_matrix, f1_score\n",
        "from sklearn.linear_model import LogisticRegression\n",
        "from sklearn.feature_extraction.text import CountVectorizer, TfidfVectorizer\n",
        "from sklearn.naive_bayes import MultinomialNB\n",
        "from sklearn.preprocessing import StandardScaler\n",
        "\n",
        "from sklearn.feature_extraction.text import CountVectorizer"
      ]
    },
    {
      "cell_type": "code",
      "source": [
        "auth.authenticate_user()"
      ],
      "metadata": {
        "id": "BB3_cNAwpaNY"
      },
      "execution_count": null,
      "outputs": []
    },
    {
      "cell_type": "code",
      "source": [
        "# for this section, we'll use this file only. This data, originally used in MIT's 6.7930 ML in Healthcare course,\n",
        "# was derived from the MIMIC-III dataset and includes lab values taken when the patient was admitted to the hospital.\n",
        "\n",
        "!gsutil cp gs://10-742/assignment_3/length_of_stay.csv ./"
      ],
      "metadata": {
        "id": "rmNuDIqTEIWu"
      },
      "execution_count": null,
      "outputs": []
    },
    {
      "cell_type": "markdown",
      "source": [
        "#1.1\n",
        "What is the average and median length of stay?"
      ],
      "metadata": {
        "id": "TLsuHwPbpfk5"
      }
    },
    {
      "cell_type": "markdown",
      "source": [
        "**YOUR ANSWER HERE**"
      ],
      "metadata": {
        "id": "Oxr9uXnBCsVG"
      }
    },
    {
      "cell_type": "markdown",
      "source": [
        "#1.2\n",
        "\n",
        "Plot a histogram of the length of stays. What observations can you make about this distribution? Select what you consider to be the best visualization for this data, given the distribution."
      ],
      "metadata": {
        "id": "OvYnjQUvpjBN"
      }
    },
    {
      "cell_type": "markdown",
      "source": [
        "**YOUR ANSWER HERE**"
      ],
      "metadata": {
        "id": "q1N0SyJyCtTr"
      }
    },
    {
      "cell_type": "markdown",
      "source": [
        "#1.3\n",
        "\n",
        "We're now going to train a binary classifier model to predict whether a patient stays more or less than 10 days. Follow these steps:\n",
        "\n",
        "Step 1: Create a binary 'length of stay is 10 or more days' field - this will be the target variable.\n",
        "\n",
        "Step 2: Remove outliers -- i.e. those encounters with a length of stay exceeding 50 days.\n",
        "\n",
        "Step 3: Scale all fields to the range [0,1]\n",
        "\n",
        "Step 4: Split the data 80/20 into training and test. There's lots of ways to perform this split, so try to split the data in a way that does not introduce bias.\n",
        "\n",
        "Step 5: Run a logistic regression using L2 loss to predict a patient's length of stay. Note that there are no missing values in this dataset, and all the fields are numerical."
      ],
      "metadata": {
        "id": "EAUfYenYptuA"
      }
    },
    {
      "cell_type": "markdown",
      "source": [
        "**YOUR ANSWER HERE**"
      ],
      "metadata": {
        "id": "gWoe_VvACwPF"
      }
    },
    {
      "cell_type": "markdown",
      "source": [
        "#1.4\n",
        "\n",
        "Calculate and report the accuracy and AUROC of your model. Compare it against the naive (baseline) classifier, which always assigns the label (0 or 1) with higher frequency in the training data."
      ],
      "metadata": {
        "id": "bcbMJqAOqL-1"
      }
    },
    {
      "cell_type": "markdown",
      "source": [
        "**YOUR ANSWER HERE**"
      ],
      "metadata": {
        "id": "QxY7p5sjCymN"
      }
    },
    {
      "cell_type": "markdown",
      "source": [
        "#1.5\n",
        "\n",
        "Show the top 10 most important features. Remember that with logistic regression models, the absolute value of a feature weight is a measure of its predictive importance.\n",
        "\n",
        "Do these features make intuitive sense?"
      ],
      "metadata": {
        "id": "zgHiCdX9Wj8B"
      }
    },
    {
      "cell_type": "markdown",
      "source": [
        "**YOUR ANSWER HERE**"
      ],
      "metadata": {
        "id": "zy_CxjWbS9q7"
      }
    },
    {
      "cell_type": "markdown",
      "source": [
        "#1.6 (no credit - just for fun)\n",
        "\n",
        "In step 3 above, we applied min-max scaling. There are other scaling approaches, e.g. z-scaling, which are more appropriate for data with various distributions.\n",
        "\n",
        "Inspect the various columns in this dataframe to understand the shape of the data in that column, and apply a scaling technique that is appropriate for that column.  \n",
        "\n",
        "Can you develop a better-performing model?"
      ],
      "metadata": {
        "id": "HI2JUHsDRgAz"
      }
    },
    {
      "cell_type": "markdown",
      "source": [
        "**YOUR ANSWER HERE**"
      ],
      "metadata": {
        "id": "KK-9qH4PC4TO"
      }
    },
    {
      "cell_type": "markdown",
      "source": [
        "# Part 2: EDA for Clinical Notes (1 point)\n",
        "\n",
        "In this set of problems, we'll familiarize ourselves with clinical notes. We'll use the de-identified notes for one MIMIC patient.  "
      ],
      "metadata": {
        "id": "fxk_YTTrbcx5"
      }
    },
    {
      "cell_type": "code",
      "source": [
        "!gsutil cp gs://10-742/assignment_3/patient_80110_notes.csv ./"
      ],
      "metadata": {
        "id": "O-3UQ3CmbwLM"
      },
      "execution_count": null,
      "outputs": []
    },
    {
      "cell_type": "markdown",
      "source": [
        "#2.1\n",
        "\n",
        "Let’s examine patient with SUBJECT ID of 80110. Everything you need is in this file: `patient 80110 notes.csv` in the `assignment_3` folder in the GCP bucket named `10-742`.\n",
        "\n",
        "First let’s look at their discharge summary, with a ROW ID of 36482."
      ],
      "metadata": {
        "id": "zay0v3lLqWhl"
      }
    },
    {
      "cell_type": "markdown",
      "source": [
        "#2.2\n",
        "How old is this patient and what is their sex?\n"
      ],
      "metadata": {
        "id": "_RMfQHASqZ8b"
      }
    },
    {
      "cell_type": "markdown",
      "source": [
        "**YOUR ANSWER HERE**"
      ],
      "metadata": {
        "id": "g6ujO6EcC6L2"
      }
    },
    {
      "cell_type": "markdown",
      "source": [
        "#2.3\n",
        "How long were in they in the hospital for?"
      ],
      "metadata": {
        "id": "Jn6bIQQfqdqQ"
      }
    },
    {
      "cell_type": "markdown",
      "source": [
        "**YOUR ANSWER HERE**"
      ],
      "metadata": {
        "id": "9eJ15OPcC7HQ"
      }
    },
    {
      "cell_type": "markdown",
      "source": [
        "#2.4\n",
        "Why was this patient initially admitted to the ICU?"
      ],
      "metadata": {
        "id": "k92ZEJ6Qqhg8"
      }
    },
    {
      "cell_type": "markdown",
      "source": [
        "**YOUR ANSWER HERE**"
      ],
      "metadata": {
        "id": "ymgIDU7NC76u"
      }
    },
    {
      "cell_type": "markdown",
      "source": [
        "#2.5\n",
        "\n",
        "THIS PROBLEM HAS BEEN REMOVED.\n"
      ],
      "metadata": {
        "id": "GJrHyoxvqkmr"
      }
    },
    {
      "cell_type": "markdown",
      "source": [
        "**YOUR ANSWER HERE**"
      ],
      "metadata": {
        "id": "a8AyyThJC8xY"
      }
    },
    {
      "cell_type": "markdown",
      "source": [
        "#2.6\n",
        "Now, let’s examine one of this patient’s nursing notes (read ROW ID of 570974). Read the first two paragraphs (up until ‘Significant Events’ section) of the nursing note. What section in the discharge summary do we see the most overlap with?  Are there any detail(s) mentioned in the first two paragraphs that are not mentioned in the discharge summary?"
      ],
      "metadata": {
        "id": "81pOd7xwqpdS"
      }
    },
    {
      "cell_type": "markdown",
      "source": [
        "**YOUR ANSWER HERE**"
      ],
      "metadata": {
        "id": "nlN290UzC97u"
      }
    },
    {
      "cell_type": "markdown",
      "source": [
        "#2.7\n",
        "These notes look very different from typical text. List 3 differences between hospital notes and typical text from the web (e.g., Wikipedia) that may present additional challenges to apply machine learning models to."
      ],
      "metadata": {
        "id": "1BNRIerUq4Ol"
      }
    },
    {
      "cell_type": "markdown",
      "source": [
        "**YOUR ANSWER HERE**"
      ],
      "metadata": {
        "id": "fmj7y5aLDArQ"
      }
    },
    {
      "cell_type": "markdown",
      "source": [
        "# Part 3: Using Text to Predict Discharge Location (3 points)\n",
        "\n",
        "Now we'll use the text in a patient's admission note (the first note that's written for a patient when they are admitted to the hospital) to predict where the patient will end up after they leave the hospital.\n",
        "\n",
        "Predicting where the hospital will discharge the patient - to their home, a post-acute care facility, hospice - is as important as the LOS, sincemany of these facilities require lead time to prepare for a new patient."
      ],
      "metadata": {
        "id": "yl2bDvErFrVq"
      }
    },
    {
      "cell_type": "code",
      "source": [
        "!gsutil cp gs://10-742/assignment_3/notes_pruned.csv ./\n",
        "df = pd.read_csv('notes_pruned.csv')"
      ],
      "metadata": {
        "id": "ZpZPIUF9gdNs"
      },
      "execution_count": null,
      "outputs": []
    },
    {
      "cell_type": "markdown",
      "source": [
        "#3.1\n",
        "\n",
        "When building a model to predict discharge location, what is the practical benefit of using only admissions notes and not other notes during a patient's stay in the hospital? (Hint: why do we not also use discharge summaries?)"
      ],
      "metadata": {
        "id": "IY_Nzg5bYnKG"
      }
    },
    {
      "cell_type": "markdown",
      "source": [
        "**YOUR ANSWER HERE**"
      ],
      "metadata": {
        "id": "kSni1z2sDCW5"
      }
    },
    {
      "cell_type": "markdown",
      "source": [
        "#3.2\n",
        "\n",
        "Clean the data as follows:\n",
        "\n",
        "* Add a `CLEAN_NOTE` field, which contains the `NOTE` text after converting the text to lowercase, removing punctuation, and filtering out stopwords. We suggest using the `stopwords` library from `nltk.corpus`.\n",
        "\n",
        "* Add a `LONG_STAY` boolean field (which takes the value 1 when los > 6, and 0 otherwise)\n",
        "\n",
        "* Remove those records with a discharge location that appears fewer than 500 times in the data.\n",
        "\n",
        "You should have five remaining discharge locations. Show a bar graph of the distribution."
      ],
      "metadata": {
        "id": "Er9oFPM1rEwP"
      }
    },
    {
      "cell_type": "markdown",
      "source": [
        "**YOUR ANSWER HERE**"
      ],
      "metadata": {
        "id": "T1Gn2iavDDuv"
      }
    },
    {
      "cell_type": "markdown",
      "source": [
        "#3.3\n",
        "\n",
        "Train a Naive Bayes classifier to predict the discharge location from the text.\n",
        "\n",
        "Hint: we observed that using the `TfidfVectorizer` is preferable to the 'vanilla' Vectorizer.  (Why do you think this is?) You may wish to instantiate the vectorizer as follows:\n",
        "\n",
        "`vectorizer = TfidfVectorizer(stop_words='english', min_df=3, max_df=0.9)`\n",
        "\n",
        "We trained on 70% of the supplied data and evaluated on the remaining 30%. On that test set, we got an overall accuracy of 0.40. How did you do?"
      ],
      "metadata": {
        "id": "m7X1d7Q9rkBy"
      }
    },
    {
      "cell_type": "markdown",
      "source": [
        "**YOUR ANSWER HERE**"
      ],
      "metadata": {
        "id": "oSUnQh_mDEy5"
      }
    },
    {
      "cell_type": "markdown",
      "source": [
        "#3.4\n",
        "\n",
        "For each class (i.e. each value of `DISCHARGE LOCATION`), list the top 8 most discriminating features for predicting that class.\n",
        "\n",
        "We'll do this two different ways.\n",
        "\n",
        "\n",
        "\n",
        "First, for each class, show the 8 tokens t for which `p(t|class)` is highest.  What do you notice about these lists?\n"
      ],
      "metadata": {
        "id": "0ZagUq9grtlk"
      }
    },
    {
      "cell_type": "markdown",
      "source": [
        "**YOUR ANSWER HERE**"
      ],
      "metadata": {
        "id": "68a07wioDF-t"
      }
    },
    {
      "cell_type": "markdown",
      "source": [
        "#3.5\n",
        "\n",
        "Those are not very informative features. Let's try a different approach. Find the values of `t` for which `p(t | class)` is unusually high for one class ``c, compared to all the others. In other words, find the top 8 values of `t` which maximize\n",
        "\n",
        "$$\\frac{p(t|c)}{p(t)}$$"
      ],
      "metadata": {
        "id": "6UkvP08Lr7jy"
      }
    },
    {
      "cell_type": "markdown",
      "source": [
        "**YOUR ANSWER HERE**"
      ],
      "metadata": {
        "id": "6wTOgRkBDILf"
      }
    },
    {
      "cell_type": "markdown",
      "source": [
        "#3.6\n",
        "\n",
        "Why do you think the second approach yield more intuitive results?"
      ],
      "metadata": {
        "id": "mjJXkp5PsVLa"
      }
    },
    {
      "cell_type": "markdown",
      "source": [
        "**YOUR ANSWER HERE**"
      ],
      "metadata": {
        "id": "x1O8U2sLDJJR"
      }
    },
    {
      "cell_type": "markdown",
      "source": [
        "#Part 4: Demand Forecasting (3 points)\n",
        "\n",
        "Congratulations! You have just been appointed  VP of Operations at Springfield General Hospital. It's your responsibility to ensure the hospital is properly staffed for the patient load at all times during the day.\n",
        "\n",
        "An understaffed hospital can be dangerous, as patients are forced to wait for care. An overstaffed hospital is financially unsustainable, as the hospital is spending more on staff costs than necessary.\n",
        "\n",
        "In this set of questions, we're going to inspect some real-world hospital admission data and attempt to build a model from it, so that we can better predict future demand and thus proactively \"right-size\" the staffing for our hospital.\n",
        "\n",
        "Here we're using MIMIC data. For deidentification purposes, MIMIC dates are shifted. While there's no guarantee that hours and minutes in the MIMIC data are unmasked, their values do appear to follow expected patterns and we will take the hour and minute data at face value for this assigment.\n",
        "\n",
        "Demand forecasting is an entire field of study within operations research---see [here](https://books.google.com/books?hl=en&lr=&id=_bBhDwAAQBAJ) if you're interested in learning more."
      ],
      "metadata": {
        "id": "j3w0tbua0X5k"
      }
    },
    {
      "cell_type": "markdown",
      "source": [
        "#4.0\n",
        "\n",
        "Download the following file from Physionet to your computer, uncompress it, and then upload the resulting file here (colab). There is a file icon on the left panel of colab - you can use this to upload files from your computer to colab.\n",
        "\n",
        "`https://physionet.org/content/mimiciii/1.4/ADMISSIONS.csv.gz`\n",
        "\n"
      ],
      "metadata": {
        "id": "RFA85u-A3nRe"
      }
    },
    {
      "cell_type": "code",
      "source": [
        "# In case physionet server is unresponsive, we've placed the required MIMIC file\n",
        "# in a private GCP bucket. We will only grant access to this bucket (a) in case\n",
        "# the physionet server is down, and (b) only to those students who have proven\n",
        "# to the course staff that they have been granted access to the MIMIC III and IV\n",
        "# file repositories on physionet.\n",
        "\n",
        "#!gsutil cp gs://10-742-mimic/ADMISSIONS.csv ./"
      ],
      "metadata": {
        "id": "kP_VOSNe4EQk"
      },
      "execution_count": null,
      "outputs": []
    },
    {
      "cell_type": "code",
      "source": [
        "admissions = pd.read_csv('ADMISSIONS.csv')\n",
        "admissions['ADMITTIME'] = pd.to_datetime(admissions['ADMITTIME'])"
      ],
      "metadata": {
        "id": "aLcEoQGH0VaE"
      },
      "execution_count": null,
      "outputs": []
    },
    {
      "cell_type": "markdown",
      "source": [
        "#4.1\n",
        "\n",
        "Have a close look at the first 20 rows of this data, and make sure you understand all the columns."
      ],
      "metadata": {
        "id": "dT8QMjcG0bzj"
      }
    },
    {
      "cell_type": "markdown",
      "source": [
        "**NO ANSWER REQUIRED**"
      ],
      "metadata": {
        "id": "RsECRkp9OtLe"
      }
    },
    {
      "cell_type": "markdown",
      "source": [
        "#4.2\n",
        "\n",
        "Plot the admission data by hour of day. What do you observe about the shape of the data?"
      ],
      "metadata": {
        "id": "n39O6k2L0iLQ"
      }
    },
    {
      "cell_type": "markdown",
      "source": [
        "**YOUR ANSWER HERE**"
      ],
      "metadata": {
        "id": "8DorEGG2DOjm"
      }
    },
    {
      "cell_type": "markdown",
      "source": [
        "#4.3\n",
        "\n",
        "To us, the data looks like a mixture of Gaussians: one distribution with a peak at 5PM and a broad variance, the other distribution with a peak (really, a spike) at 7am and very small variance.  \n",
        "\n",
        "The probability density function $f(x)$ of this mixture model can be expressed as:  \n",
        "\n",
        "$f(x) = \\alpha \\cdot N_b(x | \\mu_1, \\sigma_1) + (1-\\alpha) \\cdot N_n (x | \\mu_2, \\sigma_2) $\n",
        "\n",
        "where:\n",
        "- $ \\alpha $ is the mixing parameter representing the proportion of the two Gaussian distributions;\n",
        "- $ \\mu_1, \\sigma_1 $ are the mean and standard deviation of the broad distribution $N_b$;\n",
        "- $ \\mu_2, \\sigma_2 $ are the mean and standard deviation of the narrow  distribution $N_n$.\n",
        "\n",
        "Given the observed data, we can find a maximum-likelihood estimate for these parameters using the Expectation-Maximization (EM) algorithm. For more on the EM algorithm, see: https://www.cs.toronto.edu/~jlucas/teaching/csc411/lectures/lec15_16_handout.pdf\n",
        "\n",
        "Use the EM algorithm and the admission data to determine maximum likelihood values for $\\alpha, \\mu_1, \\mu_2, \\sigma_1, \\sigma_2$. Plot the function $f(x)$ above, using the ML parameters you calculated, on top of the observed admission data.\n",
        "\n",
        "Report the log-likelihood of the data, given your model. For reference, we got -3.2."
      ],
      "metadata": {
        "id": "du4QgEox0qoi"
      }
    },
    {
      "cell_type": "markdown",
      "source": [
        "#4.4\n",
        "\n",
        "Can you think of any plausible reason why the data has this bimodal shape?"
      ],
      "metadata": {
        "id": "AJUU5S4CXCk0"
      }
    },
    {
      "cell_type": "markdown",
      "source": [
        "**YOUR ANSWER HERE**"
      ],
      "metadata": {
        "id": "rlq4wobDXNxe"
      }
    },
    {
      "cell_type": "markdown",
      "source": [
        "#4.5\n",
        "\n",
        "In your role as VP Operations, how might you use this newly-developed model to optimize staffing and resources at the hospital?\n",
        "\n",
        "List up to 3 factors that might complicate your attempt to optimize staffing to match the demand pattern. We'll give you one to start: hospital staff tend to work in shifts of 8 continuous hours."
      ],
      "metadata": {
        "id": "XVqvKivpBVhm"
      }
    },
    {
      "cell_type": "markdown",
      "source": [
        "**YOUR ANSWER HERE**"
      ],
      "metadata": {
        "id": "ZFp4DXbaDPgi"
      }
    }
  ]
}