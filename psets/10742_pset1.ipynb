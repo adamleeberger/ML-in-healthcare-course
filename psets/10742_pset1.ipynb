{
  "nbformat": 4,
  "nbformat_minor": 0,
  "metadata": {
    "colab": {
      "provenance": []
    },
    "kernelspec": {
      "name": "python3",
      "display_name": "Python 3"
    },
    "language_info": {
      "name": "python"
    }
  },
  "cells": [
    {
      "cell_type": "markdown",
      "source": [
        "# CMU 10-742 (Fall 2024) - Machine Learning in Healthcare\n",
        "\n",
        "## Assignment 1: Healthcare Data, Codes, APIs...and Bayesian Inference\n",
        "\n",
        "Out: Thur Aug 29 2024\n",
        "\n",
        "Due: Thurs Sep 12 2024\n",
        "\n",
        "_This assignment counts for 8 points out of the 35 total points allocated to the course problem sets._"
      ],
      "metadata": {
        "id": "KwYrRPjbDJT1"
      }
    },
    {
      "cell_type": "markdown",
      "source": [
        "In this assignment, we’re going to get familiar with a few popular healthcare datasets, codesets, and APIs. We'll do some [EDA](https://www.itl.nist.gov/div898/handbook/eda/section1/eda11.htm) (exploratory data analysis) on a few popular datasets. We'll investigate the discrepancy between how much  male and female providers make. And we'll get our feet wet with Bayesian inference for clinical diagnosis.  \n",
        "\n",
        "Notes for this and subsequent assignments:\n",
        "\n",
        "* Make a copy of this colab notebook and provide your code/answers in the marked sections. To hand in your assignment, download the `.ipynb` file and submit it via the course Canvas site.\n",
        "\n",
        "* You must only hand it one file - do not decompose your questions into multiple notebooks.\n",
        "\n",
        "* We assume you have all necessary libraries already installed in your colab environment. If you get a runtime error from colab about an unrecognized import, just install it, e.g. `!pip install numpy.`\n",
        "\n",
        "* Refer to the [course syllabus](https://adamleeberger.github.io/10742/) for detailed policies on collaboration, using external tools, late policy, etc. Your assignment will be considered on time if the last revision to the notebook is before the assignment deadline.\n",
        "\n",
        "* The datasets live on various GCP buckets. We've configured these buckets to allow read access from all CMU accounts. Of course, you must be authenticated to your CMU account. We have included (in a cell below) the required code to authenticate this notebook to your CMU account.  \n",
        "\n",
        "* Show your work. In some cases, this means clear, documented source code. In other cases, it means showing how you arrived at a numeric answer.\n",
        "\n",
        "* To receive full credit for a problem, your solution must be correct and intuitive and succinct.  Reproducability is critical in ML research, and we expect your code to be clean and well documented.  \n",
        "\n",
        "* Do not store your answers anywhere that others can easily access them. Your answers should not be accessible from the public internet, or any file system or cloud repository where other students (today or in the future) may be able to access them."
      ],
      "metadata": {
        "id": "-qOBcVpAGGRZ"
      }
    },
    {
      "cell_type": "code",
      "source": [
        "# Some preliminaries\n",
        "import locale\n",
        "import pandas as pd\n",
        "import requests\n",
        "import matplotlib.pyplot as plt\n",
        "from scipy.stats import chi2_contingency\n",
        "\n",
        "locale.setlocale(locale.LC_ALL, '')\n",
        "from google.colab import auth\n",
        "auth.authenticate_user()"
      ],
      "metadata": {
        "id": "P27TtTbEYlrc"
      },
      "execution_count": null,
      "outputs": []
    },
    {
      "cell_type": "markdown",
      "source": [
        "#PART 1: Handling healthcare data (1 point)\n",
        "\n",
        "In this section, we will validate and  reinforce your understanding of [Physionet's data use agreement](https://physionet.org/content/mimiciii/view-license/1.4/), which covers MIMIC and other datasets."
      ],
      "metadata": {
        "id": "OXNfTJfpDVqE"
      }
    },
    {
      "cell_type": "markdown",
      "source": [
        "#1.1\n",
        "\n",
        "Gabriela and Eli are working on their class project, which involves MIMIC data. They want to use a shared folder on CMU’s Andrew Cluster. By default, files in this folder are readable by other CMU account holders. Would this violate any policies from MIMIC? If so, what precautions, if any, could Gabriela and Eli take to fix these violations? Answer in 1-2 sentences."
      ],
      "metadata": {
        "id": "dFEnWUXBDiNV"
      }
    },
    {
      "cell_type": "markdown",
      "source": [
        "**YOUR ANSWER HERE**\n"
      ],
      "metadata": {
        "id": "XtP73AE3k13N"
      }
    },
    {
      "cell_type": "markdown",
      "source": [
        "#1.2\n",
        "\n",
        "Eric is lazy. He doesn’t want to do the homework, so he copy-pastes notes from MIMIC into ChatGPT to answer a homework question. Would this violate any policies from MIMIC? If so, what precautions, if any, could he take to fix these violations? Answer in 1-2 sentences. (Hint: you may wish to review [this](https://physionet.org/news/post/gpt-responsible-use))"
      ],
      "metadata": {
        "id": "7t-bhDNlDm16"
      }
    },
    {
      "cell_type": "markdown",
      "source": [
        "**YOUR ANSWER HERE**\n"
      ],
      "metadata": {
        "id": "V9DEpb7olRQe"
      }
    },
    {
      "cell_type": "markdown",
      "source": [
        "#PART 2: Playing with FHIR (2 points)\n",
        "\n",
        "FHIR is a government-supported healthcare API that is becoming an industry standard for exchanging healthcare data.  This set of questions will familiarize you with FHIR.  For this set of questions, we rely on a publicly available FHIR server, called HAPI FHIR. This server contains a collection of synthetic patient data.\n",
        "\n",
        "Before jumping into these questions, we recommend skimming the following:\n",
        "\n",
        "<https://fhir-drills.github.io/index.html>: a helpful intro to the FHIR API.  \n",
        "\n",
        "<https://www.hl7.org/fhir/references.html>: the authoritative online reference.\n",
        "\n",
        "<https://build.fhir.org/resourcelist.html>: list of resources; refer back to this as you go through these questions.\n"
      ],
      "metadata": {
        "id": "VSCQU4J9EBIF"
      }
    },
    {
      "cell_type": "markdown",
      "source": [
        "We have set up a custom FHIR server on Google Cloud that you have access to, ***provided you are signed into your CMU Andrew account***. The following code blocks set up the necessary project and authentication configurations such that you will be able to easily access this server, which contains the patient data that you will need to complete this question."
      ],
      "metadata": {
        "id": "LhsFlt7pBtwA"
      }
    },
    {
      "cell_type": "code",
      "source": [
        "!gcloud config set project fhir-10742\n",
        "import subprocess\n",
        "token = subprocess.check_output([\"gcloud\", \"auth\", \"print-access-token\"]).strip().decode('utf-8')\n",
        "headers = {\n",
        "    \"Authorization\": f\"Bearer {token}\",\n",
        "}"
      ],
      "metadata": {
        "id": "sNJkXeO7Betm"
      },
      "execution_count": null,
      "outputs": []
    },
    {
      "cell_type": "code",
      "execution_count": null,
      "metadata": {
        "id": "137T0SYZ-370"
      },
      "outputs": [],
      "source": [
        "base_url = \"https://healthcare.googleapis.com/v1/projects/fhir-10742/locations/us-central1/datasets/fhir-dataset/fhirStores/fhir-10742-store/fhir\""
      ]
    },
    {
      "cell_type": "code",
      "source": [
        "base_url = \"http://hapi.fhir.org/baseR4\""
      ],
      "metadata": {
        "id": "Bre4Liyan3Cs"
      },
      "execution_count": null,
      "outputs": []
    },
    {
      "cell_type": "markdown",
      "source": [
        "If you would prefer to work with the data directly on the public FHIR server, you may replace the base_url above with \"http://hapi.fhir.org/baseR4\". However, note that this server has known accessibility issues, particularly with high user traffic volumes, and so you are encouraged to interact with the custom server provided, private to CMU-affiliated students.\n",
        "\n"
      ],
      "metadata": {
        "id": "pViJdPs6CSy4"
      }
    },
    {
      "cell_type": "markdown",
      "source": [
        "#2.1\n",
        "\n",
        "For patient ID `9312817`, how many medications were prescribed? List all these medications (e.g. `Clopidogrel 75 MG Oral Tablet`), along with the date of prescription.\n",
        "\n",
        "Based just on this list of medications, can you surmise what is the likely medical condition for this patient?"
      ],
      "metadata": {
        "id": "d6TCxVjTge60"
      }
    },
    {
      "cell_type": "markdown",
      "source": [
        "**YOUR ANSWER HERE**\n"
      ],
      "metadata": {
        "id": "uO9-Ow-xBcOl"
      }
    },
    {
      "cell_type": "markdown",
      "source": [
        "#2.2\n",
        "\n",
        "For this same patient, how many observations were made? List all these observations."
      ],
      "metadata": {
        "id": "wCxX_OcDglwO"
      }
    },
    {
      "cell_type": "markdown",
      "source": [
        "**YOUR ANSWER HERE**\n"
      ],
      "metadata": {
        "id": "JIAgDuraBeAN"
      }
    },
    {
      "cell_type": "markdown",
      "source": [
        "#2.3\n",
        "\n",
        "Plot the glucose values over time for this patient. Note that the LOINC code for glucose is `2339-0`, so your FHIR query should look something like:\n",
        "\n",
        " `query_url = {base_url}/Observation?code=2339-0&patient={patient_id}`\n",
        "\n",
        " Two consecutive readings above 125 mg/DL is suggestive of diabetes. Does this patient appear to be diabetic, based only on the reported glucose levels?"
      ],
      "metadata": {
        "id": "mwwatqo4s77H"
      }
    },
    {
      "cell_type": "markdown",
      "source": [
        "**YOUR ANSWER HERE**\n"
      ],
      "metadata": {
        "id": "oNiGDQC6BgCh"
      }
    },
    {
      "cell_type": "markdown",
      "source": [
        "#PART 3: CMS Data (3 points)\n",
        "\n",
        "The Centers for Medicare & Medicaid Services (CMS) is the U.S. federal agency that  administers the Medicare program, which provides health insurance to Americans aged 65 and older. Besides overseeing Medicare, CMS also jointly administers Medicaid with state governments, providing health insurance to low-income individuals and families, and also manages few other programs (e.g. CHIP, ACA).   \n",
        "\n",
        "CMS began publishing open datasets in 2010 as part of President Obama's Open Government Initiative. It’s remarkable what kind of data you can download, for free and without credentials, from https://data.cms.gov. Have a look!\n",
        "\n",
        "This set of questions will familiarize you with the kind of data that payers (CMS and private insurers like Cigna) collect and manage. This is often called “administrative” data, to contrast it with the kind of data (mostly clinical) that hospitals and doctor offices collect and manage.\n",
        "\n",
        "We’ve downloaded the Medicare Physician & Other Practitioners - by Provider database from CMS for you, and taken a random sampling of 10% of the data, to make it more manageable."
      ],
      "metadata": {
        "id": "OWWiThfxE7WA"
      }
    },
    {
      "cell_type": "code",
      "source": [
        "path=\"Medicare_Physician_Other_Practitioners_by_Provider_2021_processed.csv\"\n",
        "!gsutil cp gs://10-742/assignment_1/{path} ./\n",
        "df = pd.read_csv(path, low_memory=False)\n",
        "\n",
        "# This file was processed from the original CMS file, available at\n",
        "# https://data.cms.gov/provider-summary-by-type-of-service/medicare-physician-other-practitioners/medicare-physician-other-practitioners-by-provider\n",
        "#\n",
        "# In case you're curious, here's how we processed this file for you:\n",
        "#\n",
        "# prune out 90% of the rows away (to make it a more manageable size)\n",
        "# prune out rows which correspond to a *facility*, not an individual provider.\n",
        "# remove low-frequency provider types and states\n",
        "# remove columns with more than 20% missing data\n",
        "# replace remaining missing cells with 0 (for numerical columns) or 'nothing' (for categorical columns)"
      ],
      "metadata": {
        "id": "ahgrzpd3DJMq"
      },
      "execution_count": null,
      "outputs": []
    },
    {
      "cell_type": "markdown",
      "source": [
        "# 3.1\n",
        "\n",
        "Plot a histogram of the values for `Tot_Mdcr_Pymt_Amt`, which is the total amount during 2021 that each provider was paid by CMS for treating Medicare members. Why might it be preferable to use a logarithmic scale on the y-axis?"
      ],
      "metadata": {
        "id": "4W2AlUplgsrb"
      }
    },
    {
      "cell_type": "markdown",
      "source": [
        "**YOUR ANSWER HERE**\n",
        ""
      ],
      "metadata": {
        "id": "7I77Bdl1BiN8"
      }
    },
    {
      "cell_type": "markdown",
      "source": [
        "#3.2\n",
        "\n",
        "What are the top ten specialties (i.e. `Rndrng_Prvdr_Type`), ranked by decreasing average per-provider total Medicare payment? The bottom ten specialties?"
      ],
      "metadata": {
        "id": "Zx1TimHxz9iM"
      }
    },
    {
      "cell_type": "markdown",
      "source": [
        "**YOUR ANSWER HERE**\n",
        ""
      ],
      "metadata": {
        "id": "DUo6JJ1_BjAu"
      }
    },
    {
      "cell_type": "markdown",
      "source": [
        "#3.3\n",
        "\n",
        "Show a bar graph of total payment by state, with the states shown in decreasing order of average payment. Note that the `Rndrng_Prvdr_State_Abrvtn` column stores the state for the provider.  "
      ],
      "metadata": {
        "id": "dnX7IdFd_7LL"
      }
    },
    {
      "cell_type": "markdown",
      "source": [
        "**YOUR ANSWER HERE**\n",
        "\n",
        ""
      ],
      "metadata": {
        "id": "HA2K_6IxBj60"
      }
    },
    {
      "cell_type": "markdown",
      "source": [
        "# 3.4\n",
        "\n",
        "So far we've observed that Medicare payments to providers vary widely by specialty, and they also vary significantly by geography. Let's now look at the gender of the provider. Produce a bar graph of the average total Medicare payment, by gender."
      ],
      "metadata": {
        "id": "M25wSdXxYAFX"
      }
    },
    {
      "cell_type": "markdown",
      "source": [
        "**YOUR ANSWER HERE**\n",
        "\n",
        ""
      ],
      "metadata": {
        "id": "8wppDPzvBk5Z"
      }
    },
    {
      "cell_type": "markdown",
      "source": [
        "# 3.5\n",
        "\n",
        "It sure looks like CMS pays male providers a lot more than female providers! That is concerning. But before we jump to conclusions, let's take a closer look at our data.\n",
        "\n",
        "Where might there be [confounding variables](https://www.qualitymatters.org/qa-resources/resource-center/articles-resources/confounding-variables-in-research)?\n",
        "\n",
        "For example, nurses get paid less than doctors, and perhaps there are more female nurses, thus skewing the overall payment distribution? Could it be that the genders are not equally represented in certain (high or low paying) specialties?\n",
        "\n",
        "To start our investigation, let's measure the association between gender and provider type. More specifically, we'll use the [chi-squared test](https://www.khanacademy.org/math/statistics-probability/inference-categorical-data-chi-square-tests) to determine if there's a statistically significant association between `Rndrng_Prvdr_Gndr` and `Rndrng_Prvdr_Type`. If the p-value for the test is below 0.05, it indicates that the association observed in the data is unlikely to be due to chance.\n",
        "\n",
        "Report the p-value of the chi-squared test. Is there a statistically significant association between gender and provider type?"
      ],
      "metadata": {
        "id": "sYYJLP6eZsyk"
      }
    },
    {
      "cell_type": "markdown",
      "source": [
        "**YOUR ANSWER HERE**\n",
        ""
      ],
      "metadata": {
        "id": "CxqU3eHvBnAB"
      }
    },
    {
      "cell_type": "markdown",
      "source": [
        "#3.6\n",
        "\n",
        "Now let's try to remove one suspected confounding variable, which is the licensure level.  Do this by only looking at rows where `Rndrng_Prvdr_Crdntls` is \"MD\" or \"M.D.\" For these remaining rows, plot the average total payment by gender.\n",
        "\n",
        "Does this even out the results?"
      ],
      "metadata": {
        "id": "-p_vtViKwv2G"
      }
    },
    {
      "cell_type": "markdown",
      "source": [
        "**YOUR ANSWER HERE**\n",
        ""
      ],
      "metadata": {
        "id": "9UOwSfgNBnv-"
      }
    },
    {
      "cell_type": "markdown",
      "source": [
        "# 3.7\n",
        "\n",
        "Let's now remove the confounding variable of provider type.  One way to accomplish this is using [matched-pair analysis](https://statisticsbyjim.com/basics/matched-pairs-design/).\n",
        "\n",
        "The idea is this. We will subsample the rows of our dataset so that, for each provider type, we have the same number of samples from each gender. With this new dataset, we can re-investigate the association between gender and payment, but this time, we will have removed the confounding factor of provider type.\n",
        "\n",
        "More specifically, your task here is to:\n",
        "- Consider only rows where `Rndrng_Prvdr_Crdntls` is \"MD\" or \"M.D.\"\n",
        "- Prune all rows where `Rndrng_Prvdr_Type` occurs less than 100 times in the dataset.\n",
        "- For each remaining `Rndrng_Prvdr_Type`, select an equal number of each gender.\n",
        "- Create a new bar graph, as above, showing `Tot_Mdcr_Pymt_Amt` against Rndrng_Prvdr_Gndr\n",
        "\n",
        "\n",
        "What are your observations? Is there still a discrepancy? If yes, what might be the reason for that?\n"
      ],
      "metadata": {
        "id": "dNOyeTEehl8V"
      }
    },
    {
      "cell_type": "markdown",
      "source": [
        "**YOUR ANSWER HERE**\n",
        ""
      ],
      "metadata": {
        "id": "V67uFaCMBogb"
      }
    },
    {
      "cell_type": "markdown",
      "source": [
        "#Part 4: Bayesian Inference (2 points)\n",
        "\n",
        "Congratulations! You have just been appointed Chief of Springfield General Hospital's DRG - the Diagnostic Referral Group. This is the elite team of expert clinicians who consult on the trickiest cases in the hospital.\n",
        "\n",
        "As an expert diagnostician, you rely on Bayesian inference as a core part of your toolkit.\n",
        "\n",
        "You have been called in to help assess whether a patient, Harry Q Bovik, has the rare disease called \"Yinzer syndrome.\"\n",
        "\n",
        "Yinzer syndrome affects about 1 in 10,000 people. A new test has been developed to detect this disorder, which has the following characteristics:\n",
        "\n",
        "* Sensitivity (True Positive Rate): 99%\n",
        "* Specificity (True Negative Rate): 98%\n",
        "\n",
        "Mr. Bovik has tested positive for Yinzer syndrome. Your job is to determine whether Mr. Bovik actually has Yinzer syndrome.\n"
      ],
      "metadata": {
        "id": "_6yP0sk5eaAc"
      }
    },
    {
      "cell_type": "markdown",
      "source": [
        "#4.1\n",
        "\n",
        "Explain succinctly what is meant by sensitivity and specificity in this context. How do these terms relate to the terms recall and precision?"
      ],
      "metadata": {
        "id": "QRYcC3AUBtzN"
      }
    },
    {
      "cell_type": "markdown",
      "source": [
        "Let's define some terms:\n",
        "\n",
        "𝑃(𝐷) : probability of the disease (Yinzer syndrome, in this case)\n",
        "\n",
        "𝑃(𝑇) : probability of a positive test\n",
        "\n",
        "𝑝(𝐷|𝑇)  and  𝑝(𝑇|𝐷)  should hopefully be obvious"
      ],
      "metadata": {
        "id": "7SsLt7khBuUh"
      }
    },
    {
      "cell_type": "markdown",
      "source": [
        "**YOUR ANSWER HERE**\n",
        ""
      ],
      "metadata": {
        "id": "OaFcCHLHBqGi"
      }
    },
    {
      "cell_type": "markdown",
      "source": [
        "#4.2\n",
        "\n",
        "Given this terminology and using Bayes Theorem, calculate the posterior probability $p(D|T)$ as a function of known numeric quantities. Show your work."
      ],
      "metadata": {
        "id": "XhAGl2M9ByXB"
      }
    },
    {
      "cell_type": "markdown",
      "source": [
        "**YOUR ANSWER HERE**"
      ],
      "metadata": {
        "id": "8cXId0OEBrGC"
      }
    },
    {
      "cell_type": "markdown",
      "source": [
        "#4.3\n",
        "\n",
        "It is interesting to observe that $p(T|D)$ is so large and $p(D|T)$ is so small. Provide an intuitive explanation for that. Give some real-world examples of diseases $D$ and tests $T$ where this same discrepancy between $p(T|D)$ and $p(D|T)$ holds."
      ],
      "metadata": {
        "id": "fXqr5-grB4LY"
      }
    },
    {
      "cell_type": "markdown",
      "source": [
        "**YOUR ANSWER HERE**\n",
        ""
      ],
      "metadata": {
        "id": "hGUAaeypBsOK"
      }
    },
    {
      "cell_type": "markdown",
      "source": [
        "#4.4\n",
        "\n",
        "Now suppose new genetic research determines that individuals with certain characteristics (e.g., family history, ancestry from a particular region) have a higher base rate of Yinzer syndrome, at 1 in 1,000. Recalculate the posterior probability for these individuals. Show your work.\n"
      ],
      "metadata": {
        "id": "vpgZibrJB9Qj"
      }
    },
    {
      "cell_type": "markdown",
      "source": [
        "**YOUR ANSWER HERE**"
      ],
      "metadata": {
        "id": "Ncxqa_vlBtPl"
      }
    }
  ]
}