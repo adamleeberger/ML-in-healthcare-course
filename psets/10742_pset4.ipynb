{
  "nbformat": 4,
  "nbformat_minor": 0,
  "metadata": {
    "colab": {
      "provenance": []
    },
    "kernelspec": {
      "name": "python3",
      "display_name": "Python 3"
    },
    "language_info": {
      "name": "python"
    }
  },
  "cells": [
    {
      "cell_type": "markdown",
      "source": [
        "# CMU 10-742 (Fall 2024) - Machine Learning in Healthcare\n",
        "\n",
        "## Assignment 4: Causal Modeling and Bayesian Trials\n",
        "\n",
        "Out: Tues Oct 8 2024\n",
        "\n",
        "Due: Tues Oct 22 2024\n",
        "\n",
        "_This assignment counts for 5 points out of the 35 total points allocated to the course problem sets._"
      ],
      "metadata": {
        "id": "2RmBcXjjuq6f"
      }
    },
    {
      "cell_type": "markdown",
      "source": [
        "\n",
        "This assignment covers material that you have not yet seen in lecture. This is by design. The lectures on causal modeling and Bayesian trials occur late in the semester, when you will be focused on your final projects. Working through this assignment now will give you a great background for these lectures. To succeed in this assignment, you may have to look up and learn various concepts, including:\n",
        "\n",
        "- randomized control trials\n",
        "- Bayesian trials (esp. multi-arm bandit trials)\n",
        "- average treatment effect (ATE) and conditional average treatment effect (CATE)\n",
        "- confounders\n",
        "- propensity models"
      ],
      "metadata": {
        "id": "0OPS3expGgvI"
      }
    },
    {
      "cell_type": "markdown",
      "source": [
        "#Part 1: Designing a Bayesian Clinical Trial (1 point)"
      ],
      "metadata": {
        "id": "j8wGO5Kkg78N"
      }
    },
    {
      "cell_type": "markdown",
      "source": [
        "It is Feb 2025 and there's an outbreak of a new respiratory infectious disease, Covid-25. You are a clinical researcher and pulmonologist - and the CDC has tasked you with finding a reliable treatment as quickly as possible.\n",
        "\n",
        "You are evaluating four candidate treatments:\n",
        "\n",
        "| Treatment | Description                                    |\n",
        "|-----------|-------------------------------------------------|\n",
        "| A         | 2 tbsp Paxlovid, taken orally 1x day            |\n",
        "| B         | 2 tsp metformin taken orally 1x/day             |\n",
        "| C         | 1 tbsp Hydroxychloriquine, taken orally 2x/day  |\n",
        "| D         | 1 hour of gentle aerobic exercise (e.g. a walk) every day |\n",
        "\n",
        "You can measure the effect of each treatment on a patient using a Covid-detector, which accurately reports the change in disease state in 24 hours within the range 0 (no improvement) to 100 (complete improvement). (We assume, for simplicity, that none of the treatments can have a negative effect.)\n",
        "\n",
        "At your health system, you have access to a population of 1000 new patients every day who are newly infected with Covid-25."
      ],
      "metadata": {
        "id": "Jan1Z3n4hI_R"
      }
    },
    {
      "cell_type": "markdown",
      "source": [
        "# 1.1\n",
        "\n",
        "Briefly describe (in no more than a short paragraph) how you would design a double-blind randomized control trial (RCT) to assess the efficacy of treatments 1-4."
      ],
      "metadata": {
        "id": "vO6YxT_K3P24"
      }
    },
    {
      "cell_type": "markdown",
      "source": [
        "**YOUR ANSWER HERE**"
      ],
      "metadata": {
        "id": "Jk0Yo8rpDTCd"
      }
    },
    {
      "cell_type": "markdown",
      "source": [
        "#1.2\n",
        "\n",
        "Succinctly describe how you would implement a Bayesian multi-armed bandit (MAB) Bayesian trial using Thompson sampling to assess these treatments."
      ],
      "metadata": {
        "id": "7Vk76u04t3Kc"
      }
    },
    {
      "cell_type": "markdown",
      "source": [
        "**YOUR ANSWER HERE**"
      ],
      "metadata": {
        "id": "E4qQS-RtDT8y"
      }
    },
    {
      "cell_type": "markdown",
      "source": [
        "#1.3\n",
        "\n",
        "Compare the RCT and MAB approach. What are the advantages and disadvantages of each?"
      ],
      "metadata": {
        "id": "qZPLzu3zS3X5"
      }
    },
    {
      "cell_type": "markdown",
      "source": [
        "**YOUR ANSWER HERE**"
      ],
      "metadata": {
        "id": "hIr7KbLTDU2B"
      }
    },
    {
      "cell_type": "markdown",
      "source": [
        "# Part 2: Causal Modeling (4 points)\n",
        "\n",
        "Conratulations! You have just been appointed chief data scientist for Pied Piper Inc. (PPI).\n",
        "\n",
        "PPI has been growing and just decided last year to start becoming self-insured, meaning that they will directly pay the healthcare costs for their employees, instead of relying on a commercial insurer like Aetna or Cigna. Not coincidentally, PPI's board is now looking for ways to reduce their overall spend on employee healthcare.\n",
        "\n",
        "To that end, PPI just introduced a new program called Tofu For You (\"Tofu\") to  all PPI employees. Employees who enroll in Tofu get daily video reminders on healthy eating. PPI hopes that Tofu will reduce the overall healthcare costs for enrolled employees."
      ],
      "metadata": {
        "id": "8aKziyGhec0q"
      }
    },
    {
      "cell_type": "code",
      "source": [
        "# collecting (most) of the imports for this assignment in one place. You may not end up using all of these, and\n",
        "# you may need others not listed here.\n",
        "\n",
        "from google.colab import auth\n",
        "import pandas as pd\n",
        "import numpy as np\n",
        "from sklearn.linear_model import LogisticRegression\n",
        "from sklearn.metrics import accuracy_score, roc_auc_score, roc_curve, confusion_matrix, f1_score\n",
        "from sklearn.preprocessing import StandardScaler\n",
        "import matplotlib.pyplot as plt\n",
        "from sklearn.feature_extraction.text import CountVectorizer"
      ],
      "metadata": {
        "id": "GsWJBN5m_HQm"
      },
      "execution_count": null,
      "outputs": []
    },
    {
      "cell_type": "code",
      "source": [
        "auth.authenticate_user()"
      ],
      "metadata": {
        "id": "HEAXO9zt9etv"
      },
      "execution_count": null,
      "outputs": []
    },
    {
      "cell_type": "code",
      "source": [
        "# load data\n",
        "!gsutil cp gs://10-742/assignment_4/tofu.csv ./\n",
        "df = pd.read_csv('tofu.csv')"
      ],
      "metadata": {
        "id": "WpUereD_UB45"
      },
      "execution_count": null,
      "outputs": []
    },
    {
      "cell_type": "markdown",
      "source": [
        "# 2.1\n",
        "\n",
        "Report the mean and standard deviation for the next 12 months of healthcare spend.\n"
      ],
      "metadata": {
        "id": "yRHn5IAvx_Pe"
      }
    },
    {
      "cell_type": "markdown",
      "source": [
        "**YOUR ANSWER HERE**"
      ],
      "metadata": {
        "id": "8950IoOrDWMN"
      }
    },
    {
      "cell_type": "markdown",
      "source": [
        "# 2.2\n",
        "\n",
        "We'd like to figure out whether and how much Tofu affects healthcare spend. Using statistics terms, we're looking for the the Average Treatment Effect (ATE) of the Tofu program on healthcare spending.  \n",
        "\n",
        "For our first attempt to calculate ATE, we'll do the following:\n",
        "\n",
        "- Split the data into two groups, one enrolled in Tofu (treatment group) and another group not enrolled (control group).\n",
        "\n",
        "- Calculate the mean difference between `SpendLast12M` and `SpendNext12M` for each group.\n",
        "\n",
        "- Calculate the ATE by subtracting the mean of the control group from the mean of the treatment group.\n",
        "\n",
        "Based on this calculation, does the Tofu program increase or decrease future healthcare spend?\n",
        "\n",
        "Can you think of any shortcomings with this approach to calculating ATE?"
      ],
      "metadata": {
        "id": "AxfeF7fGz7bi"
      }
    },
    {
      "cell_type": "markdown",
      "source": [
        "**YOUR ANSWER HERE**"
      ],
      "metadata": {
        "id": "NfUXez9zDXFt"
      }
    },
    {
      "cell_type": "markdown",
      "source": [
        "\n",
        "#2.3\n",
        "A **confounder** is a feature (or \"covariate\") that affects whether the treatment is selected or not, and also affects the outcome. In this scenario, a confounder would affect (1) whether the person elects to enroll in Tofu or not, and (2) future healthcare spend.\n",
        "\n",
        "Provide two examples of potential confounders in this trial."
      ],
      "metadata": {
        "id": "lYn4HGtU18rc"
      }
    },
    {
      "cell_type": "markdown",
      "source": [
        "**YOUR ANSWER HERE**"
      ],
      "metadata": {
        "id": "JGXOCJS3DX9J"
      }
    },
    {
      "cell_type": "markdown",
      "source": [
        "# 2.4\n",
        "\n",
        "You might now ask whether gender has any affect on the ATE. To answer this question, we can calculate the *conditional average treatment effect* (CATE), conditioned on gender.\n",
        "\n",
        "More specifically: calculate and report the ATE (as above) for the male and female cohort separately.\n",
        "\n",
        "For which cohort (male or female) does Tofu appear to have a larger impact on future healthcare spend?  (We are not asking you to test for statistical significance here.)"
      ],
      "metadata": {
        "id": "stHzxgIizxeW"
      }
    },
    {
      "cell_type": "markdown",
      "source": [
        "**YOUR ANSWER HERE**"
      ],
      "metadata": {
        "id": "q8sqEMbFDYzn"
      }
    },
    {
      "cell_type": "markdown",
      "source": [
        "#2.5\n",
        "\n",
        "Build a model, using logistic regression, to predict if a person will enroll in Tofu. You can use all features except `SpendNext12M`.  \n",
        "\n",
        "This is called a 'propensity model\", because it models the *propensity* that an individual will self-select into a group (i.e. the group of Tofu participants).\n",
        "\n",
        "Reserve 20% of the dataset for testing, and report your accuracy on that dataset. For comparison, we got Accuracy=0.83."
      ],
      "metadata": {
        "id": "bU14n2g62dYh"
      }
    },
    {
      "cell_type": "markdown",
      "source": [
        "**YOUR ANSWER HERE**"
      ],
      "metadata": {
        "id": "EGtC-fovDZkm"
      }
    },
    {
      "cell_type": "markdown",
      "source": [
        "#2.6\n",
        "\n",
        "Select 2000 employees who actually enrolled in Tofu. For each one, calculate their propensity score, and also find one employee who did not enroll, but who has a very similar propensity score. For this matched cohort, estimate the ATE.\n",
        "\n",
        "Run this experiment ten times. Report the ATE for each experiment, and report the average ATE across all 10 trials.\n",
        "\n",
        "How does this average ATE differ from the previously-calculated ATE?\n",
        "\n",
        "This approach is called \"Propensity Score Matching.\"  While's not as statistically robust as a randomized control trial, this approach does attempt to estimate the effect of a treatment while accounting for the covariates."
      ],
      "metadata": {
        "id": "YovKg4Cy2-J2"
      }
    },
    {
      "cell_type": "markdown",
      "source": [
        "**YOUR ANSWER HERE**"
      ],
      "metadata": {
        "id": "3zW1TB-kDaUB"
      }
    },
    {
      "cell_type": "markdown",
      "source": [
        "#2.7\n",
        "\n",
        "Let's fast forward three years. After the promising initial data, you convinced Pied Piper's board of directors to run a randomized control trial (RCT) to assess Tofu's impact. Pied Piper selected 10,000 employees and randomly assigned each to the treatment or control group.\n",
        "\n",
        "The data for this RCT is in the `tofu_rct.csv` file.\n",
        "\n",
        "What is the ATE for Tofu according to this trial? How close was your coarse estimate of ATE (from 2.2) and your propensity score matching estimate of this true ATE (from 2.6)?"
      ],
      "metadata": {
        "id": "2X1siWO5uPnY"
      }
    },
    {
      "cell_type": "code",
      "source": [
        "!gsutil cp gs://10-742/assignment_4/tofu_rct.csv ./\n",
        "df_rct = pd.read_csv('tofu_rct.csv')"
      ],
      "metadata": {
        "id": "XNKsCPPy99sc"
      },
      "execution_count": null,
      "outputs": []
    },
    {
      "cell_type": "markdown",
      "source": [
        "**YOUR ANSWER HERE**"
      ],
      "metadata": {
        "id": "0SRRbrkZDd0C"
      }
    },
    {
      "cell_type": "markdown",
      "source": [
        "#2.8\n",
        "\n",
        "Are there any ethical considerations in performing an RCT here? How might you address those concerns?\n",
        "\n"
      ],
      "metadata": {
        "id": "y1I24vEOEjZp"
      }
    },
    {
      "cell_type": "markdown",
      "source": [
        "**YOUR ANSWER HERE**"
      ],
      "metadata": {
        "id": "AHkXnwx9FfgO"
      }
    },
    {
      "cell_type": "markdown",
      "source": [
        "#2.9\n",
        "\n",
        "In general, an RCT is the best approach to removing confounding factors. Is there any opportunity for a confounder to remain in this RCT? If so, what would be an example of such a confounder?"
      ],
      "metadata": {
        "id": "uWaA4qxKFhjb"
      }
    },
    {
      "cell_type": "markdown",
      "source": [
        "**YOUR ANSWER HERE**"
      ],
      "metadata": {
        "id": "Hl2D2ENCF55o"
      }
    }
  ]
}