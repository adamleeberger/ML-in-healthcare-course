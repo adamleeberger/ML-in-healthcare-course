{
  "nbformat": 4,
  "nbformat_minor": 0,
  "metadata": {
    "colab": {
      "provenance": []
    },
    "kernelspec": {
      "name": "python3",
      "display_name": "Python 3"
    },
    "language_info": {
      "name": "python"
    }
  },
  "cells": [
    {
      "cell_type": "markdown",
      "source": [
        "# CMU 10-742 (Fall 2024) - Machine Learning in Healthcare\n",
        "\n",
        "## Assignment 0: Training and Data Access\n",
        "\n",
        "Out: Tues Aug 27 2024\n",
        "\n",
        "Due: Thurs Sep 5 2024\n",
        "\n",
        "This assignment counts for 3 points out of the 35 total points allocated to the course problem sets."
      ],
      "metadata": {
        "id": "KeZcqZUgWZx1"
      }
    },
    {
      "cell_type": "markdown",
      "source": [
        "In the subsequent assignments for this class, you’ll be using real-world healthcare datasets that contain information about actual patients and their medical history. Although these datasets will be de-identified, even de-identified datasets contain information regarding the health journeys of real people, and as such we must treate the data with care and respect.  \n",
        "\n",
        "One dataset you’ll be using is MIMIC, a publicly available set of data on patient visits to critical care units of the Beth Israel Deaconess Medical Center (BIDMC) in Boston, Massachusetts. The MIMIC datasets are widely used in healthcare AI research. If you continue pursuing healthcare AI after this course ends, you will be glad to have access  to MIMIC.  \n",
        "\n",
        "MIMIC comes in two versions:\n",
        "\n",
        "\n",
        "\n",
        "*   MIMIC-III contains data on over 50K admissions to BIDMC between 2001 and 2012. [Here](https://www.nature.com/articles/sdata201635) is a 2016 Nature paper describing MIMIC-III.\n",
        "\n",
        "* MIMIC-IV contains data on encounters for over 300K encounters at BIDMC from 2008-2019. [Here](https://www.nature.com/articles/s41597-022-01899-x) is a 2023 Nature paper describing MIMIC-IV.\n",
        "\n",
        "\n",
        "\n",
        "\n",
        "To gain access to MIMIC requires several steps. You must complete them all. There are a few dependencies between the steps. Here’s simple state diagram to show you how the steps fit together. The blue boxes are activities you need to perform (detailed below), and the red arrows are dependencies. For example, you cannot perform step 5 until you have completed steps 1 and 3.\n",
        "\n",
        "Each step is detailed further below in this workbook.\n",
        "\n",
        "WARNING: Step 2 (CITI Training) takes a long time -- be sure to budget around five hours of your time. Also note: Step 1 (Create Physionet Account) takes very little of your time, but it requires you wait up to several days before Physionet reviews (and hopefully approves) your application.\n",
        "\n",
        "**All of which to say: get started early!**\n",
        "\n",
        "<img src=\"https://storage.cloud.google.com/10-742/assignment_0/asst_0_steps.png\" width=\"600\" alt=\"image alt text\">\n"
      ],
      "metadata": {
        "id": "gkWCnWHzWVoi"
      }
    },
    {
      "cell_type": "markdown",
      "source": [
        "# 1. Create Physionet Account\n",
        "\n",
        "Register for a physionet account: https://physionet.org/register/.  When prompted for an email, use your CMU email. During the application, you will be prompted for the following data; below is the responses you should provide.\n",
        "\n",
        "If you already have a physionet account but don't have credential access, go under your profile name > settings > credentialing and fill in the below information to get access.\n",
        "\n",
        "\n",
        "| Category                         | Details                                                                                       |\n",
        "|----------------------------------|-----------------------------------------------------------------------------------------------|\n",
        "| **Reference Category**           | Supervisor                                                                                    |\n",
        "| **Reference Name**               | Adam Berger                                                                                   |\n",
        "| **Phone Number/Contact Info**    | 412-268-1593                                                                                  |\n",
        "| **Email**                        | adam@andrew.cmu.edu                                                                           |\n",
        "| **Job Title**                    | Professor                                                                                     |\n",
        "| **Research Area**                | I am a student in Carnegie Mellon University course 10-742 \"Machine Learning for Healthcare\", Fall 2024. <br/>Several of the course assignments require use of Physionet datasets, including MIMIC. |\n",
        "\n"
      ],
      "metadata": {
        "id": "kk2t_XnbWczH"
      }
    },
    {
      "cell_type": "markdown",
      "source": [
        "# 2. Take CITI Training\n",
        "\n",
        "You can complete this stage while waiting for Physionet to approve your application.\n",
        "\n",
        "The training is at this URL: https://about.citiprogram.org/\n",
        "\n",
        "Login in: Find the Login' button on the top right, then select 'Log In Through My Organization' using your Andrew ID. Select “No CME Credit” when prompted.  You will then encounter eight questions; say no to all of them except Q2: Human Subjects Research. For this question, select “HSR Basics for Biomedical Research.”\n",
        "\n",
        "(If you were not prompted with \"No CME Credit\" immediately, go under My Courses > fill out the information about your role at CMU > Add a Course and you will encounter the eight questions suggested above.)\n",
        "\n",
        "That will bring up a training course.  To make sure you’re enrolled in the correct training, look for the title \"Biomedical Research - Basic/Refresher.\" There are 17 modules for this, starting with “Belmont Report and Its Principles (ID 1127).”\n",
        "\n",
        "It will take you several hours to complete and pass this course.  The “supplemental modules” are optional."
      ],
      "metadata": {
        "id": "MHRne16dXJHn"
      }
    },
    {
      "cell_type": "markdown",
      "source": [
        "#3.  Download Completion Report from CITI\n",
        "\n",
        "When you complete this training course, download your Completion Report (not the “Completion Certificate”) to your computer. You will need it in step 5."
      ],
      "metadata": {
        "id": "mT8wztRcXfHv"
      }
    },
    {
      "cell_type": "markdown",
      "source": [
        "#4. Sign DUA\n",
        "\n",
        "During this class we will use either/both of MIMIC III and MIMIC IV datasets.\n",
        "\n",
        "Go to the bottom of these pages and click on “sign the data use agreement” for both of these datasets.\n",
        "\n",
        "MIMIC 3:  https://physionet.org/content/mimiciii/1.4/#files\n",
        "\n",
        "MIMIC 4: https://physionet.org/content/mimiciv/2.2/#files\n"
      ],
      "metadata": {
        "id": "3kDMoMzVXmY0"
      }
    },
    {
      "cell_type": "markdown",
      "source": [
        "#5. Upload CITI Completion Report to Physionet\n",
        "\n",
        "Once you have completed the CITI training and you have received approval from Physionet, visit https://physionet.org/settings/training/ and upload the Completion Report you downloaded in step 3."
      ],
      "metadata": {
        "id": "gHcDhkNwXsdX"
      }
    },
    {
      "cell_type": "markdown",
      "source": [
        "#6. Associate your Google account with Physionet\n",
        "\n",
        "Visit https://physionet.org/settings/cloud/.  In the Google (email) field, enter your andrew CMU id.  "
      ],
      "metadata": {
        "id": "tCbIL9ujXzMP"
      }
    }
  ]
}